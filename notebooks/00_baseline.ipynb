{
 "cells": [
  {
   "cell_type": "markdown",
   "id": "71ce72ee-c447-4f28-8ae6-eb21a136f13d",
   "metadata": {},
   "source": [
    "# Ноутбук с первичным базовым решением\n",
    "## Здесь мы сильно не думаем о работе с фичами, алгоритмах, гиперпараметрах и всем таком. Просто убеждаемся, что все работает корректно, и мы все понимаем :)"
   ]
  },
  {
   "cell_type": "code",
   "execution_count": 1,
   "id": "3016e49f-6170-4ae1-92de-9e242e41d879",
   "metadata": {},
   "outputs": [],
   "source": [
    "import os\n",
    "os.chdir('../')"
   ]
  },
  {
   "cell_type": "code",
   "execution_count": 2,
   "id": "69584b0d-51f0-4c0c-9f67-e55f8e74dae5",
   "metadata": {},
   "outputs": [
    {
     "name": "stdout",
     "output_type": "stream",
     "text": [
      "/c/Users/user/SpaceshipTitanic-Template\n"
     ]
    }
   ],
   "source": [
    "!pwd"
   ]
  },
  {
   "cell_type": "code",
   "execution_count": 3,
   "id": "f47f7458",
   "metadata": {
    "ExecuteTime": {
     "end_time": "2024-08-07T10:34:03.090025Z",
     "start_time": "2024-08-07T10:34:03.074065Z"
    }
   },
   "outputs": [],
   "source": [
    "import pandas as pd\n",
    "import numpy as np\n",
    "\n",
    "from sklearn.preprocessing import OneHotEncoder\n",
    "from sklearn.preprocessing import StandardScaler\n",
    "\n",
    "from sklearn.model_selection import train_test_split\n",
    "from sklearn.linear_model import LogisticRegression\n",
    "from sklearn.metrics import accuracy_score\n",
    "from sklearn.model_selection import cross_validate\n"
   ]
  },
  {
   "cell_type": "code",
   "execution_count": 4,
   "id": "13aea17b",
   "metadata": {
    "ExecuteTime": {
     "end_time": "2024-08-07T10:01:28.190519Z",
     "start_time": "2024-08-07T10:01:28.139047Z"
    }
   },
   "outputs": [
    {
     "data": {
      "text/html": [
       "<div>\n",
       "<style scoped>\n",
       "    .dataframe tbody tr th:only-of-type {\n",
       "        vertical-align: middle;\n",
       "    }\n",
       "\n",
       "    .dataframe tbody tr th {\n",
       "        vertical-align: top;\n",
       "    }\n",
       "\n",
       "    .dataframe thead th {\n",
       "        text-align: right;\n",
       "    }\n",
       "</style>\n",
       "<table border=\"1\" class=\"dataframe\">\n",
       "  <thead>\n",
       "    <tr style=\"text-align: right;\">\n",
       "      <th></th>\n",
       "      <th>PassengerId</th>\n",
       "      <th>Transported</th>\n",
       "    </tr>\n",
       "  </thead>\n",
       "  <tbody>\n",
       "    <tr>\n",
       "      <th>0</th>\n",
       "      <td>0013_01</td>\n",
       "      <td>False</td>\n",
       "    </tr>\n",
       "    <tr>\n",
       "      <th>1</th>\n",
       "      <td>0018_01</td>\n",
       "      <td>False</td>\n",
       "    </tr>\n",
       "    <tr>\n",
       "      <th>2</th>\n",
       "      <td>0019_01</td>\n",
       "      <td>False</td>\n",
       "    </tr>\n",
       "    <tr>\n",
       "      <th>3</th>\n",
       "      <td>0021_01</td>\n",
       "      <td>False</td>\n",
       "    </tr>\n",
       "    <tr>\n",
       "      <th>4</th>\n",
       "      <td>0023_01</td>\n",
       "      <td>False</td>\n",
       "    </tr>\n",
       "  </tbody>\n",
       "</table>\n",
       "</div>"
      ],
      "text/plain": [
       "  PassengerId  Transported\n",
       "0     0013_01        False\n",
       "1     0018_01        False\n",
       "2     0019_01        False\n",
       "3     0021_01        False\n",
       "4     0023_01        False"
      ]
     },
     "execution_count": 4,
     "metadata": {},
     "output_type": "execute_result"
    }
   ],
   "source": [
    "# Читаем данные\n",
    "train = pd.read_csv('data/train.csv')\n",
    "test = pd.read_csv('data/test.csv')\n",
    "\n",
    "# Пример решения, которое надо положить на kaggle\n",
    "submission = pd.read_csv('data/sample_submission.csv')\n",
    "submission.head()"
   ]
  },
  {
   "cell_type": "code",
   "execution_count": 5,
   "id": "0c78e8e3-90ff-4952-b836-9d6a48f06771",
   "metadata": {
    "scrolled": true
   },
   "outputs": [
    {
     "data": {
      "text/html": [
       "<div>\n",
       "<style scoped>\n",
       "    .dataframe tbody tr th:only-of-type {\n",
       "        vertical-align: middle;\n",
       "    }\n",
       "\n",
       "    .dataframe tbody tr th {\n",
       "        vertical-align: top;\n",
       "    }\n",
       "\n",
       "    .dataframe thead th {\n",
       "        text-align: right;\n",
       "    }\n",
       "</style>\n",
       "<table border=\"1\" class=\"dataframe\">\n",
       "  <thead>\n",
       "    <tr style=\"text-align: right;\">\n",
       "      <th></th>\n",
       "      <th>PassengerId</th>\n",
       "      <th>HomePlanet</th>\n",
       "      <th>CryoSleep</th>\n",
       "      <th>Cabin</th>\n",
       "      <th>Destination</th>\n",
       "      <th>Age</th>\n",
       "      <th>VIP</th>\n",
       "      <th>RoomService</th>\n",
       "      <th>FoodCourt</th>\n",
       "      <th>ShoppingMall</th>\n",
       "      <th>Spa</th>\n",
       "      <th>VRDeck</th>\n",
       "      <th>Name</th>\n",
       "      <th>Transported</th>\n",
       "    </tr>\n",
       "  </thead>\n",
       "  <tbody>\n",
       "    <tr>\n",
       "      <th>0</th>\n",
       "      <td>0001_01</td>\n",
       "      <td>Europa</td>\n",
       "      <td>False</td>\n",
       "      <td>B/0/P</td>\n",
       "      <td>TRAPPIST-1e</td>\n",
       "      <td>39.0</td>\n",
       "      <td>False</td>\n",
       "      <td>0.0</td>\n",
       "      <td>0.0</td>\n",
       "      <td>0.0</td>\n",
       "      <td>0.0</td>\n",
       "      <td>0.0</td>\n",
       "      <td>Maham Ofracculy</td>\n",
       "      <td>False</td>\n",
       "    </tr>\n",
       "    <tr>\n",
       "      <th>1</th>\n",
       "      <td>0002_01</td>\n",
       "      <td>Earth</td>\n",
       "      <td>False</td>\n",
       "      <td>F/0/S</td>\n",
       "      <td>TRAPPIST-1e</td>\n",
       "      <td>24.0</td>\n",
       "      <td>False</td>\n",
       "      <td>109.0</td>\n",
       "      <td>9.0</td>\n",
       "      <td>25.0</td>\n",
       "      <td>549.0</td>\n",
       "      <td>44.0</td>\n",
       "      <td>Juanna Vines</td>\n",
       "      <td>True</td>\n",
       "    </tr>\n",
       "    <tr>\n",
       "      <th>2</th>\n",
       "      <td>0003_01</td>\n",
       "      <td>Europa</td>\n",
       "      <td>False</td>\n",
       "      <td>A/0/S</td>\n",
       "      <td>TRAPPIST-1e</td>\n",
       "      <td>58.0</td>\n",
       "      <td>True</td>\n",
       "      <td>43.0</td>\n",
       "      <td>3576.0</td>\n",
       "      <td>0.0</td>\n",
       "      <td>6715.0</td>\n",
       "      <td>49.0</td>\n",
       "      <td>Altark Susent</td>\n",
       "      <td>False</td>\n",
       "    </tr>\n",
       "    <tr>\n",
       "      <th>3</th>\n",
       "      <td>0003_02</td>\n",
       "      <td>Europa</td>\n",
       "      <td>False</td>\n",
       "      <td>A/0/S</td>\n",
       "      <td>TRAPPIST-1e</td>\n",
       "      <td>33.0</td>\n",
       "      <td>False</td>\n",
       "      <td>0.0</td>\n",
       "      <td>1283.0</td>\n",
       "      <td>371.0</td>\n",
       "      <td>3329.0</td>\n",
       "      <td>193.0</td>\n",
       "      <td>Solam Susent</td>\n",
       "      <td>False</td>\n",
       "    </tr>\n",
       "    <tr>\n",
       "      <th>4</th>\n",
       "      <td>0004_01</td>\n",
       "      <td>Earth</td>\n",
       "      <td>False</td>\n",
       "      <td>F/1/S</td>\n",
       "      <td>TRAPPIST-1e</td>\n",
       "      <td>16.0</td>\n",
       "      <td>False</td>\n",
       "      <td>303.0</td>\n",
       "      <td>70.0</td>\n",
       "      <td>151.0</td>\n",
       "      <td>565.0</td>\n",
       "      <td>2.0</td>\n",
       "      <td>Willy Santantines</td>\n",
       "      <td>True</td>\n",
       "    </tr>\n",
       "  </tbody>\n",
       "</table>\n",
       "</div>"
      ],
      "text/plain": [
       "  PassengerId HomePlanet CryoSleep  Cabin  Destination   Age    VIP  \\\n",
       "0     0001_01     Europa     False  B/0/P  TRAPPIST-1e  39.0  False   \n",
       "1     0002_01      Earth     False  F/0/S  TRAPPIST-1e  24.0  False   \n",
       "2     0003_01     Europa     False  A/0/S  TRAPPIST-1e  58.0   True   \n",
       "3     0003_02     Europa     False  A/0/S  TRAPPIST-1e  33.0  False   \n",
       "4     0004_01      Earth     False  F/1/S  TRAPPIST-1e  16.0  False   \n",
       "\n",
       "   RoomService  FoodCourt  ShoppingMall     Spa  VRDeck               Name  \\\n",
       "0          0.0        0.0           0.0     0.0     0.0    Maham Ofracculy   \n",
       "1        109.0        9.0          25.0   549.0    44.0       Juanna Vines   \n",
       "2         43.0     3576.0           0.0  6715.0    49.0      Altark Susent   \n",
       "3          0.0     1283.0         371.0  3329.0   193.0       Solam Susent   \n",
       "4        303.0       70.0         151.0   565.0     2.0  Willy Santantines   \n",
       "\n",
       "   Transported  \n",
       "0        False  \n",
       "1         True  \n",
       "2        False  \n",
       "3        False  \n",
       "4         True  "
      ]
     },
     "execution_count": 5,
     "metadata": {},
     "output_type": "execute_result"
    }
   ],
   "source": [
    "# Посмотрим, что тут вообще происходит 🤓\n",
    "train.shape\n",
    "train.head()"
   ]
  },
  {
   "cell_type": "markdown",
   "id": "29edcc5f-84a5-4a7f-b1e1-2dfc453ddb3c",
   "metadata": {},
   "source": [
    "---"
   ]
  },
  {
   "cell_type": "markdown",
   "id": "4e853e73-4839-4c03-82fd-98ae1ae5cf08",
   "metadata": {},
   "source": [
    "# NB:"
   ]
  },
  {
   "cell_type": "code",
   "execution_count": 6,
   "id": "0253b460",
   "metadata": {
    "ExecuteTime": {
     "end_time": "2024-08-07T10:01:33.868697Z",
     "start_time": "2024-08-07T10:01:33.855339Z"
    }
   },
   "outputs": [],
   "source": [
    "# В соревновании, кто-то использовал Name для формирования дополнительных признаков, но конкретно мы сейчас этого делать не будем. Мы строим самую БАЗОВУЮ модель!\n",
    "train.drop(columns='Name', inplace=True)\n",
    "test.drop(columns='Name', inplace=True)"
   ]
  },
  {
   "cell_type": "code",
   "execution_count": 7,
   "id": "673c7235-a0a7-475b-8c15-ac2d5b8b68f4",
   "metadata": {},
   "outputs": [
    {
     "data": {
      "text/plain": [
       "'01'"
      ]
     },
     "execution_count": 7,
     "metadata": {},
     "output_type": "execute_result"
    }
   ],
   "source": [
    "# Фича PassengerId (в общем-то как и Name) не должна играть большой роли, но мы обязательно проверим эту гипотезу в будущем!\n",
    "\n",
    "def extract_id(s, personal=True):\n",
    "    group_id, indiv_id = map(str, s.split('_'))\n",
    "    if personal:\n",
    "        return indiv_id\n",
    "    else:\n",
    "        return group_id\n",
    "\n",
    "# Пример\n",
    "extract_id('0001_01', personal=True)"
   ]
  },
  {
   "cell_type": "code",
   "execution_count": 8,
   "id": "7e0c59b3-8998-4b7a-b29a-2415c8fdd840",
   "metadata": {},
   "outputs": [],
   "source": [
    "train.drop(columns='PassengerId', inplace=True)\n",
    "test.drop(columns='PassengerId', inplace=True)"
   ]
  },
  {
   "cell_type": "markdown",
   "id": "5069b4f5-d08d-4521-a90d-da35fd014177",
   "metadata": {},
   "source": [
    "## Description\n",
    "В этом соревновании задача — предсказать, был ли пассажир перенесен в альтернативное измерение во время столкновения космического корабля «Титаник» с пространственно-временной аномалией.\n",
    "\n",
    "---\n",
    "\n",
    "**PassengerId** - Уникальный идентификатор для каждого пассажира. Каждый идентификатор имеет форму gggg_pp, где gggg указывает на группу, с которой путешествует пассажир, а pp — его номер в группе. Люди в группе часто являются членами семьи, но не всегда.\n",
    "\n",
    "**Name** - Имя и фамилия пассажира.\n",
    "\n",
    "**Transported** - Целевая переменная. Показывает был ли пассажир перенесен в другое измерение.\n",
    "\n",
    "---\n",
    "\n",
    "**HomePlanet** — Планета, с которой отправился пассажир, обычно планета его постоянного проживания.\n",
    "\n",
    "**CryoSleep** - Признак, показывающий выбрал ли пассажир анабиоз (=криосон) на время рейса. Пассажиры в криосне ограничены своими каютами.\n",
    "\n",
    "**Cabin** — Номер каюты, в которой находился пассажир. Записан в формате deck/num/side, где side может быть либо P для левого борта, либо S для правого борта.\n",
    "\n",
    "**Destination** - Планета, на которую высадится пассажир.\n",
    "\n",
    "**Age** - Возраст пассажира.\n",
    "\n",
    "**VIP** - Признак, показывающий оплатил ли пассажир VIP-обслуживание во время рейса.\n",
    "\n",
    "**RoomService**, **FoodCourt**, **ShoppingMall**, **Spa**, **VRDeck** - Суммы, которые пассажир заплатил за каждое из многочисленных удобств класса люкс на космическом корабле «Титаник»."
   ]
  },
  {
   "cell_type": "markdown",
   "id": "5ffacc2a-db2c-4f58-9a19-878e61837ff4",
   "metadata": {},
   "source": [
    "---"
   ]
  },
  {
   "cell_type": "markdown",
   "id": "94345b14-e25f-48b6-9d1b-f994dc5c7483",
   "metadata": {},
   "source": [
    "# EDA & Feature Transfomation"
   ]
  },
  {
   "cell_type": "code",
   "execution_count": 9,
   "id": "8a252511",
   "metadata": {
    "ExecuteTime": {
     "end_time": "2024-08-07T10:01:31.576273Z",
     "start_time": "2024-08-07T10:01:31.568945Z"
    }
   },
   "outputs": [
    {
     "data": {
      "text/plain": [
       "array(['Europa', 'Earth', 'Mars', nan], dtype=object)"
      ]
     },
     "metadata": {},
     "output_type": "display_data"
    },
    {
     "data": {
      "text/plain": [
       "HomePlanet\n",
       "Earth     4602\n",
       "Europa    2131\n",
       "Mars      1759\n",
       "Name: count, dtype: int64"
      ]
     },
     "metadata": {},
     "output_type": "display_data"
    },
    {
     "data": {
      "text/plain": [
       "np.int64(201)"
      ]
     },
     "metadata": {},
     "output_type": "display_data"
    }
   ],
   "source": [
    "display(train['HomePlanet'].unique())\n",
    "display(train['HomePlanet'].value_counts())\n",
    "display(train['HomePlanet'].isna().sum())"
   ]
  },
  {
   "cell_type": "code",
   "execution_count": 10,
   "id": "139f5c95-b3bd-471c-a7e5-7a36bcd31f7d",
   "metadata": {},
   "outputs": [],
   "source": [
    "# Напишем код для обработки категориальных фичей\n",
    "\n",
    "def custom_combiner(feature, category):\n",
    "    return f'OneHot__{feature}_{category}'\n",
    "\n",
    "onehot = OneHotEncoder(\n",
    "    categories='auto',\n",
    "    drop='first',\n",
    "    dtype=int,\n",
    "    handle_unknown='ignore',\n",
    "    feature_name_combiner=custom_combiner\n",
    ")\n",
    "\n",
    "\n",
    "def cat_transform(onehot, train, test, feature):\n",
    "    # Трансформируем фичу для тренировочных данных\n",
    "    transformed = onehot.fit_transform(train[[feature]]).toarray()\n",
    "    transformed = pd.DataFrame(transformed, columns=onehot.get_feature_names_out())\n",
    "    \n",
    "    # Трансформируем фичу для тестовых данных\n",
    "    transformed_test = onehot.transform(test[[feature]]).toarray()\n",
    "    transformed_test = pd.DataFrame(transformed_test, columns=onehot.get_feature_names_out())\n",
    "    \n",
    "    # Присоединяем трансформированные фичи и удаляем исходники\n",
    "    train = pd.concat([train, transformed], axis=1)\n",
    "    train.drop(columns=[feature], inplace=True)\n",
    "    \n",
    "    test = pd.concat([test, transformed_test], axis=1)\n",
    "    test.drop(columns=[feature], inplace=True)\n",
    "\n",
    "    return train, test\n"
   ]
  },
  {
   "cell_type": "code",
   "execution_count": 11,
   "id": "e9923591-137f-4b6f-8747-f14e484f39ea",
   "metadata": {},
   "outputs": [],
   "source": [
    "train, test = cat_transform(onehot, train, test, 'HomePlanet')"
   ]
  },
  {
   "cell_type": "markdown",
   "id": "28c8af0a-0651-4f22-9911-05634cdf0026",
   "metadata": {},
   "source": [
    "---"
   ]
  },
  {
   "cell_type": "code",
   "execution_count": 12,
   "id": "85bdbe78-c1c3-4fba-b823-7c84214ffc9c",
   "metadata": {},
   "outputs": [
    {
     "data": {
      "text/plain": [
       "array([False, True, nan], dtype=object)"
      ]
     },
     "metadata": {},
     "output_type": "display_data"
    },
    {
     "data": {
      "text/plain": [
       "CryoSleep\n",
       "False    5439\n",
       "True     3037\n",
       "Name: count, dtype: int64"
      ]
     },
     "metadata": {},
     "output_type": "display_data"
    },
    {
     "data": {
      "text/plain": [
       "np.int64(217)"
      ]
     },
     "metadata": {},
     "output_type": "display_data"
    }
   ],
   "source": [
    "display(train['CryoSleep'].unique())\n",
    "display(train['CryoSleep'].value_counts())\n",
    "display(train['CryoSleep'].isna().sum())"
   ]
  },
  {
   "cell_type": "code",
   "execution_count": 13,
   "id": "854cdec8-6c5d-4d96-bf94-f638aae36972",
   "metadata": {},
   "outputs": [],
   "source": [
    "train, test = cat_transform(onehot, train, test, 'CryoSleep')"
   ]
  },
  {
   "cell_type": "markdown",
   "id": "be03d32e-eb2f-44d0-815b-d2045a1f27d2",
   "metadata": {},
   "source": [
    "---"
   ]
  },
  {
   "cell_type": "markdown",
   "id": "e00923aa-a331-4451-8974-ea10f6741d78",
   "metadata": {},
   "source": [
    "## Развернем Cabin в 3 фичи:"
   ]
  },
  {
   "cell_type": "code",
   "execution_count": 14,
   "id": "a9ea9e4f-eec5-4da3-94ac-f4efeb3c703c",
   "metadata": {},
   "outputs": [],
   "source": [
    "def extract_cabin(s, feature='deck'):\n",
    "    if isinstance(s, str):\n",
    "        deck, num, side = s.split('/') \n",
    "        if feature == 'deck':\n",
    "            return deck\n",
    "        if feature == 'num':\n",
    "            return int(num)\n",
    "        if feature == 'side':\n",
    "            return side\n",
    "            \n",
    "    return 'None'\n"
   ]
  },
  {
   "cell_type": "code",
   "execution_count": 15,
   "id": "740900e0-e8d6-446b-b2ff-4a16069f6ddd",
   "metadata": {},
   "outputs": [
    {
     "data": {
      "text/plain": [
       "array(['B', 'F', 'A', 'G', 'None', 'E', 'D', 'C', 'T'], dtype=object)"
      ]
     },
     "metadata": {},
     "output_type": "display_data"
    },
    {
     "data": {
      "text/plain": [
       "array([0, 1, 2, ..., 1892, 1893, 1894], dtype=object)"
      ]
     },
     "metadata": {},
     "output_type": "display_data"
    },
    {
     "data": {
      "text/plain": [
       "array(['P', 'S', 'None'], dtype=object)"
      ]
     },
     "metadata": {},
     "output_type": "display_data"
    }
   ],
   "source": [
    "train['Cabin_deck'] = train['Cabin'].apply(extract_cabin, args=('deck', ))\n",
    "train['Cabin_num'] = train['Cabin'].apply(extract_cabin, args=('num', ))\n",
    "train['Cabin_side'] = train['Cabin'].apply(extract_cabin, args=('side', ))\n",
    "\n",
    "test['Cabin_deck'] = test['Cabin'].apply(extract_cabin, args=('deck', ))\n",
    "test['Cabin_num'] = test['Cabin'].apply(extract_cabin, args=('num', ))\n",
    "test['Cabin_side'] = test['Cabin'].apply(extract_cabin, args=('side', ))\n",
    "\n",
    "display(train['Cabin_deck'].unique())\n",
    "display(train['Cabin_num'].unique())\n",
    "display(train['Cabin_side'].unique())\n",
    "\n",
    "# Numerical фича, из предположения что каюты пронумерованы не хаотично\n",
    "# Жетский костыль, но повторюсь, что на текущий момент сильно мы не заморчиваемся\n",
    "train['Cabin_num'] = train['Cabin_num'].apply(lambda x: 1894//2 if x == 'None' else x)\n",
    "test['Cabin_num'] = test['Cabin_num'].apply(lambda x: 1894//2 if x == 'None' else x)\n",
    "\n",
    "train.drop(columns=['Cabin'], inplace=True)\n",
    "test.drop(columns=['Cabin'], inplace=True)"
   ]
  },
  {
   "cell_type": "code",
   "execution_count": 16,
   "id": "9ecf1786-856f-4733-bf66-6ed6a59e3671",
   "metadata": {},
   "outputs": [
    {
     "data": {
      "text/plain": [
       "Cabin_deck\n",
       "F       2794\n",
       "G       2559\n",
       "E        876\n",
       "B        779\n",
       "C        747\n",
       "D        478\n",
       "A        256\n",
       "None     199\n",
       "T          5\n",
       "Name: count, dtype: int64"
      ]
     },
     "metadata": {},
     "output_type": "display_data"
    },
    {
     "data": {
      "text/plain": [
       "Cabin_side\n",
       "S       4288\n",
       "P       4206\n",
       "None     199\n",
       "Name: count, dtype: int64"
      ]
     },
     "metadata": {},
     "output_type": "display_data"
    }
   ],
   "source": [
    "display(train['Cabin_deck'].value_counts())\n",
    "display(train['Cabin_side'].value_counts())"
   ]
  },
  {
   "cell_type": "code",
   "execution_count": 17,
   "id": "55a1206a-e283-435a-b0db-a2d2d491dd76",
   "metadata": {},
   "outputs": [],
   "source": [
    "train, test = cat_transform(onehot, train, test, 'Cabin_deck')\n",
    "train, test = cat_transform(onehot, train, test, 'Cabin_side')"
   ]
  },
  {
   "cell_type": "code",
   "execution_count": 18,
   "id": "4f95b409-4379-413b-876e-4fac97a09b84",
   "metadata": {},
   "outputs": [],
   "source": [
    "# Напишем код для обработки Numerical фичей\n",
    "\n",
    "scaler = StandardScaler()\n",
    "\n",
    "def num_transform(scaler, train, test, feature):\n",
    "    # Трансформируем фичу для тренировочных данных\n",
    "    transformed = scaler.fit_transform(train[[feature]])\n",
    "    transformed = pd.DataFrame(transformed, columns=[f'Scaler__{feature}'])\n",
    "    transformed = transformed.fillna(transformed.mean())\n",
    "\n",
    "    # Трансформируем фичу для тестовых данных\n",
    "    transformed_test = scaler.transform(test[[feature]])\n",
    "    transformed_test = pd.DataFrame(transformed_test, columns=[f'Scaler__{feature}'])\n",
    "    transformed_test = transformed_test.fillna(transformed_test.mean())\n",
    "\n",
    "    # Присоединяем трансформированные фичи и удаляем исходники`\n",
    "    train = pd.concat([train, transformed], axis=1)\n",
    "    train.drop(columns=[feature], inplace=True)\n",
    "    \n",
    "    test = pd.concat([test, transformed_test], axis=1)\n",
    "    test.drop(columns=[feature], inplace=True)\n",
    "\n",
    "    return train, test"
   ]
  },
  {
   "cell_type": "code",
   "execution_count": 19,
   "id": "c782be31-d581-4413-9251-02c847333162",
   "metadata": {},
   "outputs": [
    {
     "data": {
      "text/plain": [
       "count    8693.000000\n",
       "mean      608.302772\n",
       "std       508.623033\n",
       "min         0.000000\n",
       "25%       173.000000\n",
       "50%       448.000000\n",
       "75%       983.000000\n",
       "max      1894.000000\n",
       "Name: Cabin_num, dtype: float64"
      ]
     },
     "metadata": {},
     "output_type": "display_data"
    },
    {
     "data": {
      "text/plain": [
       "<Axes: >"
      ]
     },
     "metadata": {},
     "output_type": "display_data"
    },
    {
     "data": {
      "image/png": "[encoded data removed]",
      "text/plain": [
       "<Figure size 640x480 with 1 Axes>"
      ]
     },
     "metadata": {},
     "output_type": "display_data"
    }
   ],
   "source": [
    "display(train['Cabin_num'].describe())\n",
    "display(train['Cabin_num'].hist(bins=30))"
   ]
  },
  {
   "cell_type": "code",
   "execution_count": 20,
   "id": "716cf369-32cb-4804-8c36-cd685d3a683e",
   "metadata": {},
   "outputs": [],
   "source": [
    "train, test = num_transform(scaler, train, test, feature='Cabin_num')"
   ]
  },
  {
   "cell_type": "markdown",
   "id": "cd5f6d20-b99a-4568-95ee-9767241e5d41",
   "metadata": {},
   "source": [
    "---"
   ]
  },
  {
   "cell_type": "code",
   "execution_count": 21,
   "id": "bd5b296b-755c-4bbb-b3e4-3a4ae7c825a5",
   "metadata": {},
   "outputs": [
    {
     "data": {
      "text/plain": [
       "array(['TRAPPIST-1e', 'PSO J318.5-22', '55 Cancri e', nan], dtype=object)"
      ]
     },
     "metadata": {},
     "output_type": "display_data"
    },
    {
     "data": {
      "text/plain": [
       "Destination\n",
       "TRAPPIST-1e      5915\n",
       "55 Cancri e      1800\n",
       "PSO J318.5-22     796\n",
       "Name: count, dtype: int64"
      ]
     },
     "metadata": {},
     "output_type": "display_data"
    },
    {
     "data": {
      "text/plain": [
       "np.int64(182)"
      ]
     },
     "metadata": {},
     "output_type": "display_data"
    }
   ],
   "source": [
    "display(train['Destination'].unique())\n",
    "display(train['Destination'].value_counts())\n",
    "display(train['Destination'].isna().sum())"
   ]
  },
  {
   "cell_type": "code",
   "execution_count": 22,
   "id": "ff537d19-c565-4497-99fb-4f0d868c3f69",
   "metadata": {},
   "outputs": [],
   "source": [
    "train, test = cat_transform(onehot, train, test, 'Destination')"
   ]
  },
  {
   "cell_type": "markdown",
   "id": "2f9cf646-4a60-449c-bb05-922a6b262e0f",
   "metadata": {},
   "source": [
    "---"
   ]
  },
  {
   "cell_type": "code",
   "execution_count": 23,
   "id": "065667b4-1833-44c0-a089-66df59738206",
   "metadata": {},
   "outputs": [
    {
     "data": {
      "text/plain": [
       "count    8514.000000\n",
       "mean       28.827930\n",
       "std        14.489021\n",
       "min         0.000000\n",
       "25%        19.000000\n",
       "50%        27.000000\n",
       "75%        38.000000\n",
       "max        79.000000\n",
       "Name: Age, dtype: float64"
      ]
     },
     "metadata": {},
     "output_type": "display_data"
    },
    {
     "data": {
      "text/plain": [
       "<Axes: >"
      ]
     },
     "metadata": {},
     "output_type": "display_data"
    },
    {
     "data": {
      "image/png": "[encoded data removed]",
      "text/plain": [
       "<Figure size 640x480 with 1 Axes>"
      ]
     },
     "metadata": {},
     "output_type": "display_data"
    }
   ],
   "source": [
    "display(train['Age'].describe())\n",
    "display(train['Age'].hist(bins=30))"
   ]
  },
  {
   "cell_type": "code",
   "execution_count": 24,
   "id": "afc5084a-dc44-455a-879b-943b13fb0cb7",
   "metadata": {},
   "outputs": [],
   "source": [
    "train, test = num_transform(scaler, train, test, feature='Age')"
   ]
  },
  {
   "cell_type": "markdown",
   "id": "4cac2703-01d4-4c37-bc9a-bd93f504f680",
   "metadata": {},
   "source": [
    "---"
   ]
  },
  {
   "cell_type": "code",
   "execution_count": 25,
   "id": "04b0c02f-40ee-4bd5-93f8-2a89286f149b",
   "metadata": {},
   "outputs": [
    {
     "data": {
      "text/plain": [
       "array([False, True, nan], dtype=object)"
      ]
     },
     "metadata": {},
     "output_type": "display_data"
    },
    {
     "data": {
      "text/plain": [
       "VIP\n",
       "False    8291\n",
       "True      199\n",
       "Name: count, dtype: int64"
      ]
     },
     "metadata": {},
     "output_type": "display_data"
    },
    {
     "data": {
      "text/plain": [
       "np.int64(203)"
      ]
     },
     "metadata": {},
     "output_type": "display_data"
    }
   ],
   "source": [
    "display(train['VIP'].unique())\n",
    "display(train['VIP'].value_counts())\n",
    "display(train['VIP'].isna().sum())"
   ]
  },
  {
   "cell_type": "code",
   "execution_count": 26,
   "id": "84d090a3-644e-4a12-9ff4-1d2146c03468",
   "metadata": {},
   "outputs": [],
   "source": [
    "train, test = cat_transform(onehot, train, test, 'VIP')"
   ]
  },
  {
   "cell_type": "markdown",
   "id": "458e99b1-fea5-42e2-87ec-77a84d38317c",
   "metadata": {},
   "source": [
    "---"
   ]
  },
  {
   "cell_type": "code",
   "execution_count": 27,
   "id": "e91c3a7f-4848-459d-a71a-0cf7e2d88b75",
   "metadata": {},
   "outputs": [
    {
     "data": {
      "text/plain": [
       "count     8512.000000\n",
       "mean       224.687617\n",
       "std        666.717663\n",
       "min          0.000000\n",
       "25%          0.000000\n",
       "50%          0.000000\n",
       "75%         47.000000\n",
       "max      14327.000000\n",
       "Name: RoomService, dtype: float64"
      ]
     },
     "metadata": {},
     "output_type": "display_data"
    },
    {
     "name": "stdout",
     "output_type": "stream",
     "text": [
      "\n"
     ]
    },
    {
     "data": {
      "text/plain": [
       "count     8510.000000\n",
       "mean       458.077203\n",
       "std       1611.489240\n",
       "min          0.000000\n",
       "25%          0.000000\n",
       "50%          0.000000\n",
       "75%         76.000000\n",
       "max      29813.000000\n",
       "Name: FoodCourt, dtype: float64"
      ]
     },
     "metadata": {},
     "output_type": "display_data"
    },
    {
     "name": "stdout",
     "output_type": "stream",
     "text": [
      "\n"
     ]
    },
    {
     "data": {
      "text/plain": [
       "count     8485.000000\n",
       "mean       173.729169\n",
       "std        604.696458\n",
       "min          0.000000\n",
       "25%          0.000000\n",
       "50%          0.000000\n",
       "75%         27.000000\n",
       "max      23492.000000\n",
       "Name: ShoppingMall, dtype: float64"
      ]
     },
     "metadata": {},
     "output_type": "display_data"
    },
    {
     "name": "stdout",
     "output_type": "stream",
     "text": [
      "\n"
     ]
    },
    {
     "data": {
      "text/plain": [
       "count     8510.000000\n",
       "mean       311.138778\n",
       "std       1136.705535\n",
       "min          0.000000\n",
       "25%          0.000000\n",
       "50%          0.000000\n",
       "75%         59.000000\n",
       "max      22408.000000\n",
       "Name: Spa, dtype: float64"
      ]
     },
     "metadata": {},
     "output_type": "display_data"
    },
    {
     "name": "stdout",
     "output_type": "stream",
     "text": [
      "\n"
     ]
    },
    {
     "data": {
      "text/plain": [
       "count     8505.000000\n",
       "mean       304.854791\n",
       "std       1145.717189\n",
       "min          0.000000\n",
       "25%          0.000000\n",
       "50%          0.000000\n",
       "75%         46.000000\n",
       "max      24133.000000\n",
       "Name: VRDeck, dtype: float64"
      ]
     },
     "metadata": {},
     "output_type": "display_data"
    },
    {
     "name": "stdout",
     "output_type": "stream",
     "text": [
      "\n"
     ]
    }
   ],
   "source": [
    "for feature in ['RoomService', 'FoodCourt', 'ShoppingMall', 'Spa', 'VRDeck']:\n",
    "    display(train[feature].describe())\n",
    "    print()\n",
    "    train, test = num_transform(scaler, train, test, feature=feature)"
   ]
  },
  {
   "cell_type": "markdown",
   "id": "4dba3b10-9975-4ab1-8f80-7bbf032820d3",
   "metadata": {},
   "source": [
    "---"
   ]
  },
  {
   "cell_type": "code",
   "execution_count": 28,
   "id": "ab7274f9-c7e2-41a7-9514-fc82ec69bc1f",
   "metadata": {},
   "outputs": [
    {
     "name": "stdout",
     "output_type": "stream",
     "text": [
      "Transported                          False\n",
      "OneHot__HomePlanet_Europa            False\n",
      "OneHot__HomePlanet_Mars              False\n",
      "OneHot__HomePlanet_nan               False\n",
      "OneHot__CryoSleep_True               False\n",
      "OneHot__CryoSleep_nan                False\n",
      "OneHot__Cabin_deck_B                 False\n",
      "OneHot__Cabin_deck_C                 False\n",
      "OneHot__Cabin_deck_D                 False\n",
      "OneHot__Cabin_deck_E                 False\n",
      "OneHot__Cabin_deck_F                 False\n",
      "OneHot__Cabin_deck_G                 False\n",
      "OneHot__Cabin_deck_None              False\n",
      "OneHot__Cabin_deck_T                 False\n",
      "OneHot__Cabin_side_P                 False\n",
      "OneHot__Cabin_side_S                 False\n",
      "Scaler__Cabin_num                    False\n",
      "OneHot__Destination_PSO J318.5-22    False\n",
      "OneHot__Destination_TRAPPIST-1e      False\n",
      "OneHot__Destination_nan              False\n",
      "Scaler__Age                          False\n",
      "OneHot__VIP_True                     False\n",
      "OneHot__VIP_nan                      False\n",
      "Scaler__RoomService                  False\n",
      "Scaler__FoodCourt                    False\n",
      "Scaler__ShoppingMall                 False\n",
      "Scaler__Spa                          False\n",
      "Scaler__VRDeck                       False\n",
      "dtype: bool\n",
      "OneHot__HomePlanet_Europa            False\n",
      "OneHot__HomePlanet_Mars              False\n",
      "OneHot__HomePlanet_nan               False\n",
      "OneHot__CryoSleep_True               False\n",
      "OneHot__CryoSleep_nan                False\n",
      "OneHot__Cabin_deck_B                 False\n",
      "OneHot__Cabin_deck_C                 False\n",
      "OneHot__Cabin_deck_D                 False\n",
      "OneHot__Cabin_deck_E                 False\n",
      "OneHot__Cabin_deck_F                 False\n",
      "OneHot__Cabin_deck_G                 False\n",
      "OneHot__Cabin_deck_None              False\n",
      "OneHot__Cabin_deck_T                 False\n",
      "OneHot__Cabin_side_P                 False\n",
      "OneHot__Cabin_side_S                 False\n",
      "Scaler__Cabin_num                    False\n",
      "OneHot__Destination_PSO J318.5-22    False\n",
      "OneHot__Destination_TRAPPIST-1e      False\n",
      "OneHot__Destination_nan              False\n",
      "Scaler__Age                          False\n",
      "OneHot__VIP_True                     False\n",
      "OneHot__VIP_nan                      False\n",
      "Scaler__RoomService                  False\n",
      "Scaler__FoodCourt                    False\n",
      "Scaler__ShoppingMall                 False\n",
      "Scaler__Spa                          False\n",
      "Scaler__VRDeck                       False\n",
      "dtype: bool\n"
     ]
    }
   ],
   "source": [
    "print(train.isna().any())\n",
    "print(test.isna().any())"
   ]
  },
  {
   "cell_type": "markdown",
   "id": "b8510e19-0c50-4ce4-b40e-93c4932d14c9",
   "metadata": {},
   "source": [
    "# Построим модель"
   ]
  },
  {
   "cell_type": "code",
   "execution_count": 29,
   "id": "efa74235-f506-4191-8658-6bc2a351a413",
   "metadata": {},
   "outputs": [
    {
     "data": {
      "text/plain": [
       "Transported\n",
       "1    4378\n",
       "0    4315\n",
       "Name: count, dtype: int64"
      ]
     },
     "execution_count": 29,
     "metadata": {},
     "output_type": "execute_result"
    }
   ],
   "source": [
    "train['Transported'] = train['Transported'].astype(int)\n",
    "train['Transported'].value_counts()"
   ]
  },
  {
   "cell_type": "markdown",
   "id": "9ec0d344-8c73-45c9-a6d6-025e0cd80ba1",
   "metadata": {},
   "source": [
    "## Т.к. классы полностью сбалансированны, то про подбор порога можно забыть, по умолчанию для кросс валидации он 0.5"
   ]
  },
  {
   "cell_type": "code",
   "execution_count": 30,
   "id": "e12a08b6-2ed2-4649-9d7c-ba47320da57f",
   "metadata": {},
   "outputs": [
    {
     "name": "stdout",
     "output_type": "stream",
     "text": [
      "Accuracy: 0.7858 (+/- 0.0139)\n"
     ]
    }
   ],
   "source": [
    "logreg = LogisticRegression()\n",
    "\n",
    "X = train.loc[:, ~train.columns.isin(['Transported'])]\n",
    "y = train['Transported']\n",
    "\n",
    "cv_logreg = cross_validate(logreg, X, y, cv=5, scoring='accuracy')\n",
    "\n",
    "# 95% доверительный интервал\n",
    "print(f\"Accuracy: {cv_logreg['test_score'].mean():.4f} (+/- {2*cv_logreg['test_score'].std():.4f})\")"
   ]
  },
  {
   "cell_type": "markdown",
   "id": "398ccade-ef37-4d35-886f-9fc099cb75d2",
   "metadata": {},
   "source": [
    "## Чисто формальность: переберем гиперпараметр, чтобы улучшить результат"
   ]
  },
  {
   "cell_type": "code",
   "execution_count": 31,
   "id": "20c78791-6ed6-4329-a8ba-a7507c276d45",
   "metadata": {},
   "outputs": [
    {
     "name": "stdout",
     "output_type": "stream",
     "text": [
      "Hyperparam : 0.01\n",
      "Accuracy: 0.7837 (+/- 0.0160)\n",
      "\n",
      "Hyperparam : 0.04\n",
      "Accuracy: 0.7855 (+/- 0.0171)\n",
      "\n",
      "Hyperparam : 0.1\n",
      "Accuracy: 0.7840 (+/- 0.0165)\n",
      "\n",
      "Hyperparam : 0.4\n",
      "Accuracy: 0.7849 (+/- 0.0151)\n",
      "\n",
      "Hyperparam : 1\n",
      "Accuracy: 0.7858 (+/- 0.0139)\n",
      "\n",
      "Hyperparam : 4\n",
      "Accuracy: 0.7861 (+/- 0.0130)\n",
      "\n",
      "Hyperparam : 10\n",
      "Accuracy: 0.7856 (+/- 0.0129)\n",
      "\n",
      "Hyperparam : 40\n",
      "Accuracy: 0.7856 (+/- 0.0133)\n",
      "\n"
     ]
    }
   ],
   "source": [
    "for c in [0.01, 0.04,\n",
    "          0.1, 0.4,\n",
    "          1, 4,\n",
    "          10, 40]:\n",
    "\n",
    "    logreg = LogisticRegression(C=c)\n",
    "    cv_logreg = cross_validate(logreg, X, y, cv=5, scoring='accuracy')\n",
    "    \n",
    "    print(f\"Hyperparam : {c}\\nAccuracy: {cv_logreg['test_score'].mean():.4f} (+/- {2*cv_logreg['test_score'].std():.4f})\\n\")\n"
   ]
  },
  {
   "cell_type": "code",
   "execution_count": null,
   "id": "b6b915f4-6c42-4257-8504-4364c6ba126f",
   "metadata": {},
   "outputs": [],
   "source": []
  },
  {
   "cell_type": "markdown",
   "id": "6a462803-5136-4a06-b7a7-38375c9a43e7",
   "metadata": {},
   "source": [
    "## Предскажем и сохраним результат\n",
    "### Конечно же сделаем kaggle-trick и обучимся на ВСЕМ наборе данных)"
   ]
  },
  {
   "cell_type": "code",
   "execution_count": 32,
   "id": "fe1eee1e-c668-4a95-85f3-357c6c459633",
   "metadata": {},
   "outputs": [],
   "source": [
    "logreg = LogisticRegression(C=4)\n",
    "final_train = train.loc[:, ~train.columns.isin(['Transported'])]\n",
    "final_label = train['Transported']\n",
    "\n",
    "logreg.fit(final_train, final_label)\n",
    "\n",
    "prediction = logreg.predict_proba(test)[:, 1:]\n",
    "prediction = prediction > 0.5"
   ]
  },
  {
   "cell_type": "code",
   "execution_count": 33,
   "id": "c92cb298-2fd9-4b31-a84e-a7d3eaf22e9f",
   "metadata": {},
   "outputs": [
    {
     "data": {
      "text/html": [
       "<div>\n",
       "<style scoped>\n",
       "    .dataframe tbody tr th:only-of-type {\n",
       "        vertical-align: middle;\n",
       "    }\n",
       "\n",
       "    .dataframe tbody tr th {\n",
       "        vertical-align: top;\n",
       "    }\n",
       "\n",
       "    .dataframe thead th {\n",
       "        text-align: right;\n",
       "    }\n",
       "</style>\n",
       "<table border=\"1\" class=\"dataframe\">\n",
       "  <thead>\n",
       "    <tr style=\"text-align: right;\">\n",
       "      <th></th>\n",
       "      <th>feature</th>\n",
       "      <th>weight</th>\n",
       "    </tr>\n",
       "  </thead>\n",
       "  <tbody>\n",
       "    <tr>\n",
       "      <th>25</th>\n",
       "      <td>Scaler__Spa</td>\n",
       "      <td>-2.276321</td>\n",
       "    </tr>\n",
       "    <tr>\n",
       "      <th>26</th>\n",
       "      <td>Scaler__VRDeck</td>\n",
       "      <td>-2.172065</td>\n",
       "    </tr>\n",
       "    <tr>\n",
       "      <th>22</th>\n",
       "      <td>Scaler__RoomService</td>\n",
       "      <td>-1.009958</td>\n",
       "    </tr>\n",
       "    <tr>\n",
       "      <th>13</th>\n",
       "      <td>OneHot__Cabin_side_P</td>\n",
       "      <td>-0.727961</td>\n",
       "    </tr>\n",
       "    <tr>\n",
       "      <th>17</th>\n",
       "      <td>OneHot__Destination_TRAPPIST-1e</td>\n",
       "      <td>-0.454559</td>\n",
       "    </tr>\n",
       "    <tr>\n",
       "      <th>16</th>\n",
       "      <td>OneHot__Destination_PSO J318.5-22</td>\n",
       "      <td>-0.422840</td>\n",
       "    </tr>\n",
       "    <tr>\n",
       "      <th>20</th>\n",
       "      <td>OneHot__VIP_True</td>\n",
       "      <td>-0.278185</td>\n",
       "    </tr>\n",
       "    <tr>\n",
       "      <th>12</th>\n",
       "      <td>OneHot__Cabin_deck_T</td>\n",
       "      <td>-0.180483</td>\n",
       "    </tr>\n",
       "    <tr>\n",
       "      <th>11</th>\n",
       "      <td>OneHot__Cabin_deck_None</td>\n",
       "      <td>-0.178015</td>\n",
       "    </tr>\n",
       "    <tr>\n",
       "      <th>14</th>\n",
       "      <td>OneHot__Cabin_side_S</td>\n",
       "      <td>-0.138236</td>\n",
       "    </tr>\n",
       "    <tr>\n",
       "      <th>19</th>\n",
       "      <td>Scaler__Age</td>\n",
       "      <td>-0.133480</td>\n",
       "    </tr>\n",
       "    <tr>\n",
       "      <th>18</th>\n",
       "      <td>OneHot__Destination_nan</td>\n",
       "      <td>-0.081543</td>\n",
       "    </tr>\n",
       "    <tr>\n",
       "      <th>21</th>\n",
       "      <td>OneHot__VIP_nan</td>\n",
       "      <td>0.060740</td>\n",
       "    </tr>\n",
       "    <tr>\n",
       "      <th>15</th>\n",
       "      <td>Scaler__Cabin_num</td>\n",
       "      <td>0.103006</td>\n",
       "    </tr>\n",
       "    <tr>\n",
       "      <th>8</th>\n",
       "      <td>OneHot__Cabin_deck_E</td>\n",
       "      <td>0.125804</td>\n",
       "    </tr>\n",
       "    <tr>\n",
       "      <th>10</th>\n",
       "      <td>OneHot__Cabin_deck_G</td>\n",
       "      <td>0.242166</td>\n",
       "    </tr>\n",
       "    <tr>\n",
       "      <th>4</th>\n",
       "      <td>OneHot__CryoSleep_nan</td>\n",
       "      <td>0.317089</td>\n",
       "    </tr>\n",
       "    <tr>\n",
       "      <th>24</th>\n",
       "      <td>Scaler__ShoppingMall</td>\n",
       "      <td>0.320743</td>\n",
       "    </tr>\n",
       "    <tr>\n",
       "      <th>2</th>\n",
       "      <td>OneHot__HomePlanet_nan</td>\n",
       "      <td>0.432779</td>\n",
       "    </tr>\n",
       "    <tr>\n",
       "      <th>1</th>\n",
       "      <td>OneHot__HomePlanet_Mars</td>\n",
       "      <td>0.583743</td>\n",
       "    </tr>\n",
       "    <tr>\n",
       "      <th>7</th>\n",
       "      <td>OneHot__Cabin_deck_D</td>\n",
       "      <td>0.613423</td>\n",
       "    </tr>\n",
       "    <tr>\n",
       "      <th>9</th>\n",
       "      <td>OneHot__Cabin_deck_F</td>\n",
       "      <td>0.628078</td>\n",
       "    </tr>\n",
       "    <tr>\n",
       "      <th>23</th>\n",
       "      <td>Scaler__FoodCourt</td>\n",
       "      <td>0.806813</td>\n",
       "    </tr>\n",
       "    <tr>\n",
       "      <th>5</th>\n",
       "      <td>OneHot__Cabin_deck_B</td>\n",
       "      <td>1.207451</td>\n",
       "    </tr>\n",
       "    <tr>\n",
       "      <th>3</th>\n",
       "      <td>OneHot__CryoSleep_True</td>\n",
       "      <td>1.377194</td>\n",
       "    </tr>\n",
       "    <tr>\n",
       "      <th>0</th>\n",
       "      <td>OneHot__HomePlanet_Europa</td>\n",
       "      <td>1.647104</td>\n",
       "    </tr>\n",
       "    <tr>\n",
       "      <th>6</th>\n",
       "      <td>OneHot__Cabin_deck_C</td>\n",
       "      <td>2.305049</td>\n",
       "    </tr>\n",
       "  </tbody>\n",
       "</table>\n",
       "</div>"
      ],
      "text/plain": [
       "                              feature    weight\n",
       "25                        Scaler__Spa -2.276321\n",
       "26                     Scaler__VRDeck -2.172065\n",
       "22                Scaler__RoomService -1.009958\n",
       "13               OneHot__Cabin_side_P -0.727961\n",
       "17    OneHot__Destination_TRAPPIST-1e -0.454559\n",
       "16  OneHot__Destination_PSO J318.5-22 -0.422840\n",
       "20                   OneHot__VIP_True -0.278185\n",
       "12               OneHot__Cabin_deck_T -0.180483\n",
       "11            OneHot__Cabin_deck_None -0.178015\n",
       "14               OneHot__Cabin_side_S -0.138236\n",
       "19                        Scaler__Age -0.133480\n",
       "18            OneHot__Destination_nan -0.081543\n",
       "21                    OneHot__VIP_nan  0.060740\n",
       "15                  Scaler__Cabin_num  0.103006\n",
       "8                OneHot__Cabin_deck_E  0.125804\n",
       "10               OneHot__Cabin_deck_G  0.242166\n",
       "4               OneHot__CryoSleep_nan  0.317089\n",
       "24               Scaler__ShoppingMall  0.320743\n",
       "2              OneHot__HomePlanet_nan  0.432779\n",
       "1             OneHot__HomePlanet_Mars  0.583743\n",
       "7                OneHot__Cabin_deck_D  0.613423\n",
       "9                OneHot__Cabin_deck_F  0.628078\n",
       "23                  Scaler__FoodCourt  0.806813\n",
       "5                OneHot__Cabin_deck_B  1.207451\n",
       "3              OneHot__CryoSleep_True  1.377194\n",
       "0           OneHot__HomePlanet_Europa  1.647104\n",
       "6                OneHot__Cabin_deck_C  2.305049"
      ]
     },
     "execution_count": 33,
     "metadata": {},
     "output_type": "execute_result"
    }
   ],
   "source": [
    "pd.DataFrame({\n",
    "    'feature': final_train.columns.tolist(),\n",
    "    'weight': logreg.coef_[0].tolist()\n",
    "}).sort_values(by='weight')"
   ]
  },
  {
   "cell_type": "code",
   "execution_count": 34,
   "id": "d52c8152-e437-45f5-83b2-ca2943c20881",
   "metadata": {},
   "outputs": [
    {
     "data": {
      "text/html": [
       "<div>\n",
       "<style scoped>\n",
       "    .dataframe tbody tr th:only-of-type {\n",
       "        vertical-align: middle;\n",
       "    }\n",
       "\n",
       "    .dataframe tbody tr th {\n",
       "        vertical-align: top;\n",
       "    }\n",
       "\n",
       "    .dataframe thead th {\n",
       "        text-align: right;\n",
       "    }\n",
       "</style>\n",
       "<table border=\"1\" class=\"dataframe\">\n",
       "  <thead>\n",
       "    <tr style=\"text-align: right;\">\n",
       "      <th></th>\n",
       "      <th>PassengerId</th>\n",
       "      <th>Transported</th>\n",
       "    </tr>\n",
       "  </thead>\n",
       "  <tbody>\n",
       "    <tr>\n",
       "      <th>0</th>\n",
       "      <td>0013_01</td>\n",
       "      <td>True</td>\n",
       "    </tr>\n",
       "    <tr>\n",
       "      <th>1</th>\n",
       "      <td>0018_01</td>\n",
       "      <td>False</td>\n",
       "    </tr>\n",
       "    <tr>\n",
       "      <th>2</th>\n",
       "      <td>0019_01</td>\n",
       "      <td>True</td>\n",
       "    </tr>\n",
       "    <tr>\n",
       "      <th>3</th>\n",
       "      <td>0021_01</td>\n",
       "      <td>True</td>\n",
       "    </tr>\n",
       "    <tr>\n",
       "      <th>4</th>\n",
       "      <td>0023_01</td>\n",
       "      <td>True</td>\n",
       "    </tr>\n",
       "    <tr>\n",
       "      <th>...</th>\n",
       "      <td>...</td>\n",
       "      <td>...</td>\n",
       "    </tr>\n",
       "    <tr>\n",
       "      <th>4272</th>\n",
       "      <td>9266_02</td>\n",
       "      <td>True</td>\n",
       "    </tr>\n",
       "    <tr>\n",
       "      <th>4273</th>\n",
       "      <td>9269_01</td>\n",
       "      <td>False</td>\n",
       "    </tr>\n",
       "    <tr>\n",
       "      <th>4274</th>\n",
       "      <td>9271_01</td>\n",
       "      <td>True</td>\n",
       "    </tr>\n",
       "    <tr>\n",
       "      <th>4275</th>\n",
       "      <td>9273_01</td>\n",
       "      <td>True</td>\n",
       "    </tr>\n",
       "    <tr>\n",
       "      <th>4276</th>\n",
       "      <td>9277_01</td>\n",
       "      <td>True</td>\n",
       "    </tr>\n",
       "  </tbody>\n",
       "</table>\n",
       "<p>4277 rows × 2 columns</p>\n",
       "</div>"
      ],
      "text/plain": [
       "     PassengerId  Transported\n",
       "0        0013_01         True\n",
       "1        0018_01        False\n",
       "2        0019_01         True\n",
       "3        0021_01         True\n",
       "4        0023_01         True\n",
       "...          ...          ...\n",
       "4272     9266_02         True\n",
       "4273     9269_01        False\n",
       "4274     9271_01         True\n",
       "4275     9273_01         True\n",
       "4276     9277_01         True\n",
       "\n",
       "[4277 rows x 2 columns]"
      ]
     },
     "execution_count": 34,
     "metadata": {},
     "output_type": "execute_result"
    }
   ],
   "source": [
    "submission['Transported'] = prediction\n",
    "submission"
   ]
  },
  {
   "cell_type": "code",
   "execution_count": 35,
   "id": "396ddce0-9e5f-409d-a735-904197e09855",
   "metadata": {},
   "outputs": [],
   "source": [
    "submission.to_csv('output/baseline_submission.csv', index=False)"
   ]
  },
  {
   "cell_type": "markdown",
   "id": "e222fa4d-bb51-405f-aff0-9c390ad4dcfa",
   "metadata": {},
   "source": [
    "# Итоговый результат: 0.79261"
   ]
  }
 ],
 "metadata": {
  "kernelspec": {
   "display_name": "titanic_base",
   "language": "python",
   "name": "titanic_base"
  },
  "language_info": {
   "codemirror_mode": {
    "name": "ipython",
    "version": 3
   },
   "file_extension": ".py",
   "mimetype": "text/x-python",
   "name": "python",
   "nbconvert_exporter": "python",
   "pygments_lexer": "ipython3",
   "version": "3.12.4"
  },
  "toc": {
   "base_numbering": 1,
   "nav_menu": {},
   "number_sections": true,
   "sideBar": true,
   "skip_h1_title": false,
   "title_cell": "Table of Contents",
   "title_sidebar": "Contents",
   "toc_cell": false,
   "toc_position": {},
   "toc_section_display": true,
   "toc_window_display": false
  },
  "varInspector": {
   "cols": {
    "lenName": 16,
    "lenType": 16,
    "lenVar": 40
   },
   "kernels_config": {
    "python": {
     "delete_cmd_postfix": "",
     "delete_cmd_prefix": "del ",
     "library": "var_list.py",
     "varRefreshCmd": "print(var_dic_list())"
    },
    "r": {
     "delete_cmd_postfix": ") ",
     "delete_cmd_prefix": "rm(",
     "library": "var_list.r",
     "varRefreshCmd": "cat(var_dic_list()) "
    }
   },
   "types_to_exclude": [
    "module",
    "function",
    "builtin_function_or_method",
    "instance",
    "_Feature"
   ],
   "window_display": false
  }
 },
 "nbformat": 4,
 "nbformat_minor": 5
}
